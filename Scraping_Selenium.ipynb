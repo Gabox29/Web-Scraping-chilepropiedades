{
 "cells": [
  {
   "cell_type": "code",
   "execution_count": 16,
   "metadata": {},
   "outputs": [],
   "source": [
    "import re \n",
    "import pandas as pd\n",
    "import numpy as np\n",
    "import time\n",
    "\n",
    "from bs4 import BeautifulSoup as bs\n",
    "import requests"
   ]
  },
  {
   "cell_type": "code",
   "execution_count": 2,
   "metadata": {},
   "outputs": [],
   "source": [
    "url = \"https://chilepropiedades.cl/propiedades/venta-usada/departamento/region-metropolitana-de-santiago-rm/0\"\n",
    "\n",
    "\n",
    "response = requests.get(url, \n",
    "                        headers= {\"User-Agent\" : \"Mozilla/5.0 (Windows NT 10.0; Win64; x64) AppleWebKit/537.36 (KHTML, like Gecko) Chrome/108.0.0.0 Safari/537.36\"}\n",
    "                        )"
   ]
  },
  {
   "cell_type": "code",
   "execution_count": 3,
   "metadata": {},
   "outputs": [],
   "source": [
    "html = response.content"
   ]
  },
  {
   "cell_type": "code",
   "execution_count": 4,
   "metadata": {},
   "outputs": [],
   "source": [
    "soup = bs(html, \"lxml\")"
   ]
  },
  {
   "cell_type": "code",
   "execution_count": 5,
   "metadata": {},
   "outputs": [],
   "source": [
    "casas = soup.select(\"div.position-relative.d-sm-flex\")"
   ]
  },
  {
   "cell_type": "code",
   "execution_count": 6,
   "metadata": {},
   "outputs": [
    {
     "data": {
      "text/plain": [
       "10"
      ]
     },
     "execution_count": 6,
     "metadata": {},
     "output_type": "execute_result"
    }
   ],
   "source": [
    "len(casas)"
   ]
  },
  {
   "attachments": {},
   "cell_type": "markdown",
   "metadata": {},
   "source": [
    "## Individual Tests "
   ]
  },
  {
   "cell_type": "code",
   "execution_count": 7,
   "metadata": {},
   "outputs": [],
   "source": [
    "url = \"https://chilepropiedades.cl/propiedades/venta-usada/casa/region-metropolitana-de-santiago-rm/4\"\n",
    "\n",
    "\n",
    "response = requests.get(url, \n",
    "                        headers= {\"User-Agent\" : \"Mozilla/5.0 (Windows NT 10.0; Win64; x64) AppleWebKit/537.36 (KHTML, like Gecko) Chrome/108.0.0.0 Safari/537.36\"}\n",
    "                        )\n",
    "time.sleep(1)\n",
    "\n",
    "html = response.content\n",
    "soup = bs(html, \"lxml\")\n",
    "casas = soup.select(\"div.position-relative.d-sm-flex\")"
   ]
  },
  {
   "cell_type": "code",
   "execution_count": 8,
   "metadata": {},
   "outputs": [
    {
     "data": {
      "text/plain": [
       "'La Florida, Santa Julia'"
      ]
     },
     "execution_count": 8,
     "metadata": {},
     "output_type": "execute_result"
    }
   ],
   "source": [
    "casas[7].select(\"h2.publication-title-list a\")[0].get_text().split(\"\\n\")[1].strip()# direccion"
   ]
  },
  {
   "cell_type": "code",
   "execution_count": 9,
   "metadata": {},
   "outputs": [
    {
     "data": {
      "text/plain": [
       "[<span areaunit=\"\" class=\"clp-value-container\" data-no-value=\"\" valueunit=\"1\">\n",
       "                     $\n",
       "                   </span>,\n",
       " <span areaunit=\"\" class=\"clp-value-container\" data-no-value-unit=\"\" value=\"6.45E7\" valueunit=\"1\">\n",
       "                     64.500.000\n",
       "                   </span>]"
      ]
     },
     "execution_count": 9,
     "metadata": {},
     "output_type": "execute_result"
    }
   ],
   "source": [
    "casas[6].select(\"span.clp-value-container\") # precio"
   ]
  },
  {
   "cell_type": "code",
   "execution_count": 17,
   "metadata": {},
   "outputs": [
    {
     "name": "stdout",
     "output_type": "stream",
     "text": [
      "5000\n",
      "174115000\n"
     ]
    }
   ],
   "source": [
    "if casas[0].select(\"span.clp-value-container\")[0].get_text(strip=True) == \"$\":\n",
    "    price = int(casas[0].select(\"span.clp-value-container\")[1].get_text(strip=True).replace(\".\",\"\"))\n",
    "    price\n",
    "    print(round(price / 34823, 3))\n",
    "elif casas[0].select(\"span.clp-value-container\")[0].get_text(strip=True) == \"UF\":\n",
    "    price = int(casas[0].select(\"span.clp-value-container\")[1].get_text(strip=True).replace(\".\",\"\"))\n",
    "    print(price)\n",
    "    print(round(price * 34823, 3))\n",
    "elif casas[0].select(\"span.clp-value-container\")[0].get_text(strip=True) == \"USD\":\n",
    "    price = int(casas[0].select(\"span.clp-value-container\")[1].get_text(strip=True).replace(\".\",\"\"))\n",
    "    print(price)\n",
    "    print(round(price * 34823, 3))\n"
   ]
  },
  {
   "cell_type": "code",
   "execution_count": 13,
   "metadata": {},
   "outputs": [
    {
     "data": {
      "text/plain": [
       "17"
      ]
     },
     "execution_count": 13,
     "metadata": {},
     "output_type": "execute_result"
    }
   ],
   "source": [
    "len(casas[6].select(\"div.clp-publication-features-container span\"))"
   ]
  },
  {
   "cell_type": "code",
   "execution_count": 14,
   "metadata": {},
   "outputs": [],
   "source": [
    "categorias = casas[8].select(\"div.clp-publication-features-container span\")\n",
    "categorias_clean = [i.get_text(strip=True).split(\":\")[0] for i in categorias]\n",
    "check_hab_bath = [\"Baños\", \"Habitaciones\"]"
   ]
  },
  {
   "cell_type": "code",
   "execution_count": 15,
   "metadata": {},
   "outputs": [
    {
     "data": {
      "text/plain": [
       "[True, True]"
      ]
     },
     "execution_count": 15,
     "metadata": {},
     "output_type": "execute_result"
    }
   ],
   "source": [
    "[i in categorias_clean for i in check_hab_bath]"
   ]
  },
  {
   "cell_type": "code",
   "execution_count": null,
   "metadata": {},
   "outputs": [
    {
     "name": "stdout",
     "output_type": "stream",
     "text": [
      "gloria la bravo pueblo\n"
     ]
    }
   ],
   "source": [
    "\n",
    "if (\"Habitaciones\" and \"Baños\") in [i.get_text(strip=True).split(\":\")[0] for i in categorias]:\n",
    "    print(\"gloria la bravo pueblo\")"
   ]
  },
  {
   "cell_type": "code",
   "execution_count": null,
   "metadata": {},
   "outputs": [
    {
     "data": {
      "text/plain": [
       "True"
      ]
     },
     "execution_count": 168,
     "metadata": {},
     "output_type": "execute_result"
    }
   ],
   "source": [
    "(\"Habitaciones\" and \"Baños\") in [i.get_text(strip=True).split(\":\")[0] for i in categorias]"
   ]
  },
  {
   "cell_type": "code",
   "execution_count": null,
   "metadata": {},
   "outputs": [
    {
     "name": "stdout",
     "output_type": "stream",
     "text": [
      "Baños\n",
      "Baños\n",
      "2\n",
      "Superficie Construida\n",
      "Superficie Construida\n",
      "98 m²\n",
      "|\n",
      "Terreno\n",
      "98 m²\n",
      "Estacionamientos\n",
      "Estacionamientos\n",
      "2\n"
     ]
    }
   ],
   "source": [
    "for i in casas[8].select(\"div.clp-publication-features-container span\"):\n",
    "    print(i.get_text(strip=True).split(\":\")[0])"
   ]
  },
  {
   "cell_type": "code",
   "execution_count": null,
   "metadata": {},
   "outputs": [
    {
     "data": {
      "text/plain": [
       "[<span class=\"clp-feature-value\" title=\"Superficie Construida\">70 m²</span>,\n",
       " <span class=\"clp-feature-value\" title=\"Superficie Total\">122 m²</span>]"
      ]
     },
     "execution_count": 216,
     "metadata": {},
     "output_type": "execute_result"
    }
   ],
   "source": [
    "bla = casas[4].select(\"div.clp-publication-features-container span\")[6].select(\"span.clp-feature-value\")# para casa que tienen tanto superficie construida y total \n",
    "bla"
   ]
  },
  {
   "cell_type": "code",
   "execution_count": null,
   "metadata": {},
   "outputs": [
    {
     "name": "stdout",
     "output_type": "stream",
     "text": [
      "70.0\n",
      "122 m²\n"
     ]
    }
   ],
   "source": [
    "\n",
    "#metros_cons=[]\n",
    "#total_metros=[]\n",
    "\n",
    "if len(bla) == 1:\n",
    "    pass\n",
    "    # all_metros_coin.append(int(bla[0].get_text().split()[0])\n",
    "    # all_metros_totales.append(int(bla[0].get_text().split()[0])\n",
    "elif len(bla) == 2:\n",
    "    print(float(bla[0].get_text().replace(\",\",\".\").split()[0]))\n",
    "    print(bla[1].get_text().replace(\",\",\".\"))\n",
    " "
   ]
  },
  {
   "cell_type": "code",
   "execution_count": null,
   "metadata": {},
   "outputs": [
    {
     "data": {
      "text/plain": [
       "'3'"
      ]
     },
     "execution_count": 19,
     "metadata": {},
     "output_type": "execute_result"
    }
   ],
   "source": [
    "casas[0].select(\"div.clp-publication-features-container span\")[2].get_text() # habitacion"
   ]
  },
  {
   "cell_type": "code",
   "execution_count": null,
   "metadata": {},
   "outputs": [
    {
     "data": {
      "text/plain": [
       "'1'"
      ]
     },
     "execution_count": 20,
     "metadata": {},
     "output_type": "execute_result"
    }
   ],
   "source": [
    "casas[0].select(\"div.clp-publication-features-container span\")[5].get_text() # Baños"
   ]
  },
  {
   "cell_type": "code",
   "execution_count": null,
   "metadata": {},
   "outputs": [
    {
     "data": {
      "text/plain": [
       "'2'"
      ]
     },
     "execution_count": 26,
     "metadata": {},
     "output_type": "execute_result"
    }
   ],
   "source": [
    "if casas[0].select(\"div.clp-publication-features-container span\")[-2].get_text() == 'Estacionamientos:':  # Estacionamientos\n",
    "    a = casas[0].select(\"div.clp-publication-features-container span\")[-1].get_text()\n",
    "else:\n",
    "    a = 0\n",
    "a"
   ]
  },
  {
   "cell_type": "code",
   "execution_count": null,
   "metadata": {},
   "outputs": [
    {
     "data": {
      "text/plain": [
       "'02/12/2022'"
      ]
     },
     "execution_count": 22,
     "metadata": {},
     "output_type": "execute_result"
    }
   ],
   "source": [
    "casas[0].select(\"div.text-center\")[0].get_text().split(\"\\n\")[1] #  fecha"
   ]
  },
  {
   "cell_type": "markdown",
   "metadata": {},
   "source": [
    "## Just one pag"
   ]
  },
  {
   "cell_type": "code",
   "execution_count": 20,
   "metadata": {},
   "outputs": [],
   "source": [
    "url = \"https://chilepropiedades.cl/propiedades/venta-usada/departamento/region-metropolitana-de-santiago-rm/0\"\n",
    "\n",
    "\n",
    "response = requests.get(url, \n",
    "                        headers= {\"User-Agent\" : \"Mozilla/5.0 (Windows NT 10.0; Win64; x64) AppleWebKit/537.36 (KHTML, like Gecko) Chrome/108.0.0.0 Safari/537.36\"}\n",
    "                        )\n",
    "# time.sleep(1)\n",
    "\n",
    "html = response.content\n",
    "soup = bs(html, \"lxml\")\n",
    "casas = soup.select(\"div.position-relative.d-sm-flex\")"
   ]
  },
  {
   "cell_type": "code",
   "execution_count": 21,
   "metadata": {},
   "outputs": [],
   "source": [
    "solo_address = []\n",
    "solo_price = []\n",
    "solo_uf = []\n",
    "solo_cons_m2 = []\n",
    "solo_total_m2 = []\n",
    "solo_num_bedrooms = []\n",
    "solo_num_bathrooms = []\n",
    "solo_parkings_slots = []\n",
    "solo_publi_date = []"
   ]
  },
  {
   "cell_type": "code",
   "execution_count": 22,
   "metadata": {},
   "outputs": [],
   "source": [
    "for idx,cas in enumerate(casas):\n",
    "    # print(idx)\n",
    "    categorias = cas.select(\"div.clp-publication-features-container span\")\n",
    "    categorias_clean = [i.get_text(strip=True).split(\":\")[0] for i in categorias]\n",
    "    check_hab_bath = [\"Baños\", \"Habitaciones\"]\n",
    "    \n",
    "    if not(all([i in categorias_clean for i in check_hab_bath])):\n",
    "        continue\n",
    "\n",
    "    solo_address.append(cas.select(\"h2.publication-title-list a\")[0].get_text().split(\"\\n\")[1].strip())\n",
    "\n",
    "    if cas.select(\"span.clp-value-container\")[0].get_text(strip=True) == \"$\":\n",
    "        price = int(cas.select(\"span.clp-value-container\")[1].get_text(strip=True).replace(\".\",\"\"))\n",
    "        # print(idx,price)\n",
    "        solo_price.append(price)\n",
    "        solo_uf.append(round(price / 34829, 3))\n",
    "    elif cas.select(\"span.clp-value-container\")[0].get_text(strip=True) == \"UF\":\n",
    "        price = int(cas.select(\"span.clp-value-container\")[1].get_text(strip=True).replace(\".\",\"\"))\n",
    "        # print(idx,price)\n",
    "        solo_uf.append(price)\n",
    "        solo_price.append(round(price * 34829, 3))\n",
    "\n",
    "    elif cas.select(\"span.clp-value-container\")[0].get_text(strip=True) == \"USD\":\n",
    "        price = int(cas.select(\"span.clp-value-container\")[1].get_text(strip=True).replace(\".\",\"\"))\n",
    "        # print(idx,price, price / 39, price * 886)\n",
    "        solo_uf.append(round(price / 39, 3))\n",
    "        solo_price.append(round(price * 886, 3))\n",
    "\n",
    "\n",
    "    categorias = cas.select(\"div.clp-publication-features-container span\")\n",
    "    if \"Terreno\" in [i.get_text(strip=True).split(\":\")[0] for i in categorias]:\n",
    "        meters = cas.select(\"div.clp-publication-features-container span\")[6].select(\"span.clp-feature-value\")\n",
    "\n",
    "        if len(meters) == 1:\n",
    "            solo_cons_m2.append(int(meters[0].get_text().split(\",\")[0].replace(\".\",\"\").split()[0]))\n",
    "            solo_total_m2.append(int(meters[0].get_text().split(\",\")[0].replace(\".\",\"\").split()[0]))\n",
    "        elif len(meters) == 2:\n",
    "            solo_cons_m2.append(int(meters[0].get_text().split(\",\")[0].replace(\".\",\"\").split()[0]))\n",
    "            solo_total_m2.append(int(meters[1].get_text().split(\",\")[0].replace(\".\",\"\").split()[0]))\n",
    "    else:\n",
    "        solo_cons_m2.append(0)\n",
    "        solo_total_m2.append(0)\n",
    "\n",
    "    \n",
    "    solo_num_bedrooms.append(int(cas.select(\"div.clp-publication-features-container span\")[2].get_text()))\n",
    "    solo_num_bathrooms.append(int(cas.select(\"div.clp-publication-features-container span\")[5].get_text()))\n",
    "\n",
    "    if cas.select(\"div.clp-publication-features-container span\")[-2].get_text() == 'Estacionamientos:':  # Estacionamientos\n",
    "        solo_parkings_slots.append(int(cas.select(\"div.clp-publication-features-container span\")[-1].get_text()))\n",
    "    else:\n",
    "        solo_parkings_slots.append(0)\n",
    "    \n",
    "    solo_publi_date.append(cas.select(\"div.text-center\")[0].get_text().split(\"\\n\")[1])"
   ]
  },
  {
   "cell_type": "code",
   "execution_count": 23,
   "metadata": {},
   "outputs": [],
   "source": [
    "dict_data = {\"Direccion\": solo_address,\n",
    "             \"Precio\" : solo_price,\n",
    "             \"UF\" : solo_uf,\n",
    "             \"m2_Construidos\" : solo_cons_m2,\n",
    "             \"m2_totales\" : solo_total_m2,\n",
    "             \"Habitaciones\" :  solo_num_bedrooms,\n",
    "             \"Banos\" : solo_num_bathrooms,\n",
    "             \"Estacionamientos\" : solo_parkings_slots,\n",
    "             \"Publi\": solo_publi_date}"
   ]
  },
  {
   "cell_type": "code",
   "execution_count": 24,
   "metadata": {},
   "outputs": [
    {
     "data": {
      "text/plain": [
       "array([10, 10, 10, 10, 10, 10, 10, 10, 10])"
      ]
     },
     "execution_count": 24,
     "metadata": {},
     "output_type": "execute_result"
    }
   ],
   "source": [
    "full_list = [solo_address, solo_price, solo_uf, solo_cons_m2, solo_total_m2, solo_num_bedrooms, solo_num_bathrooms, solo_parkings_slots, solo_publi_date]\n",
    "len_full = np.array([len(i) for i in full_list])\n",
    "len_full"
   ]
  },
  {
   "cell_type": "code",
   "execution_count": 25,
   "metadata": {},
   "outputs": [
    {
     "data": {
      "text/plain": [
       "'all_ elements are equal : True'"
      ]
     },
     "execution_count": 25,
     "metadata": {},
     "output_type": "execute_result"
    }
   ],
   "source": [
    "# Two ways of doing the same thing\n",
    "# Check if all the values are the same\n",
    "\n",
    "np.count_nonzero(len_full == len_full[0]) == len(len_full)\n",
    "f\"all_ elements are equal : {np.unique(len_full).shape[0] == 1}\""
   ]
  },
  {
   "cell_type": "code",
   "execution_count": 26,
   "metadata": {},
   "outputs": [
    {
     "data": {
      "text/html": [
       "<div>\n",
       "<style scoped>\n",
       "    .dataframe tbody tr th:only-of-type {\n",
       "        vertical-align: middle;\n",
       "    }\n",
       "\n",
       "    .dataframe tbody tr th {\n",
       "        vertical-align: top;\n",
       "    }\n",
       "\n",
       "    .dataframe thead th {\n",
       "        text-align: right;\n",
       "    }\n",
       "</style>\n",
       "<table border=\"1\" class=\"dataframe\">\n",
       "  <thead>\n",
       "    <tr style=\"text-align: right;\">\n",
       "      <th></th>\n",
       "      <th>Direccion</th>\n",
       "      <th>Precio</th>\n",
       "      <th>UF</th>\n",
       "      <th>m2_Construidos</th>\n",
       "      <th>m2_totales</th>\n",
       "      <th>Habitaciones</th>\n",
       "      <th>Banos</th>\n",
       "      <th>Estacionamientos</th>\n",
       "      <th>Publi</th>\n",
       "    </tr>\n",
       "  </thead>\n",
       "  <tbody>\n",
       "    <tr>\n",
       "      <th>0</th>\n",
       "      <td>Santiago, Carmen 159</td>\n",
       "      <td>114000000</td>\n",
       "      <td>3273.134</td>\n",
       "      <td>100</td>\n",
       "      <td>100</td>\n",
       "      <td>3</td>\n",
       "      <td>2</td>\n",
       "      <td>0</td>\n",
       "      <td>21/03/2023</td>\n",
       "    </tr>\n",
       "    <tr>\n",
       "      <th>1</th>\n",
       "      <td>Las Condes, Av. Manquehue Nte. 69</td>\n",
       "      <td>156730500</td>\n",
       "      <td>4500.000</td>\n",
       "      <td>45</td>\n",
       "      <td>45</td>\n",
       "      <td>1</td>\n",
       "      <td>1</td>\n",
       "      <td>1</td>\n",
       "      <td>20/03/2023</td>\n",
       "    </tr>\n",
       "    <tr>\n",
       "      <th>2</th>\n",
       "      <td>Quinta Normal, Gral. Barbosa 1149</td>\n",
       "      <td>75000000</td>\n",
       "      <td>2153.378</td>\n",
       "      <td>37</td>\n",
       "      <td>37</td>\n",
       "      <td>1</td>\n",
       "      <td>1</td>\n",
       "      <td>0</td>\n",
       "      <td>20/03/2023</td>\n",
       "    </tr>\n",
       "    <tr>\n",
       "      <th>3</th>\n",
       "      <td>La Florida, Pudeto, La Florida</td>\n",
       "      <td>65826810</td>\n",
       "      <td>1890.000</td>\n",
       "      <td>31</td>\n",
       "      <td>31</td>\n",
       "      <td>1</td>\n",
       "      <td>1</td>\n",
       "      <td>0</td>\n",
       "      <td>20/03/2023</td>\n",
       "    </tr>\n",
       "    <tr>\n",
       "      <th>4</th>\n",
       "      <td>Ñuñoa, Matta Ote. 849</td>\n",
       "      <td>182852250</td>\n",
       "      <td>5250.000</td>\n",
       "      <td>74</td>\n",
       "      <td>74</td>\n",
       "      <td>2</td>\n",
       "      <td>2</td>\n",
       "      <td>1</td>\n",
       "      <td>20/03/2023</td>\n",
       "    </tr>\n",
       "    <tr>\n",
       "      <th>5</th>\n",
       "      <td>Estación Central, Avenida Padre Alberto Hurtado</td>\n",
       "      <td>75000000</td>\n",
       "      <td>2153.378</td>\n",
       "      <td>62</td>\n",
       "      <td>62</td>\n",
       "      <td>3</td>\n",
       "      <td>2</td>\n",
       "      <td>0</td>\n",
       "      <td>20/03/2023</td>\n",
       "    </tr>\n",
       "    <tr>\n",
       "      <th>6</th>\n",
       "      <td>San Joaquín, Sta. Rosa 2648</td>\n",
       "      <td>66175100</td>\n",
       "      <td>1900.000</td>\n",
       "      <td>46</td>\n",
       "      <td>46</td>\n",
       "      <td>2</td>\n",
       "      <td>1</td>\n",
       "      <td>0</td>\n",
       "      <td>20/03/2023</td>\n",
       "    </tr>\n",
       "    <tr>\n",
       "      <th>7</th>\n",
       "      <td>Las Condes, C. San José de La Sierra 93</td>\n",
       "      <td>170662100</td>\n",
       "      <td>4900.000</td>\n",
       "      <td>0</td>\n",
       "      <td>0</td>\n",
       "      <td>1</td>\n",
       "      <td>1</td>\n",
       "      <td>0</td>\n",
       "      <td>19/03/2023</td>\n",
       "    </tr>\n",
       "    <tr>\n",
       "      <th>8</th>\n",
       "      <td>Ñuñoa, José Domingo Cañas 1727</td>\n",
       "      <td>244847870</td>\n",
       "      <td>7030.000</td>\n",
       "      <td>110</td>\n",
       "      <td>110</td>\n",
       "      <td>3</td>\n",
       "      <td>2</td>\n",
       "      <td>1</td>\n",
       "      <td>19/03/2023</td>\n",
       "    </tr>\n",
       "    <tr>\n",
       "      <th>9</th>\n",
       "      <td>Cerrillos, Folklore Chileno 2227</td>\n",
       "      <td>38068097</td>\n",
       "      <td>1093.000</td>\n",
       "      <td>42</td>\n",
       "      <td>42</td>\n",
       "      <td>2</td>\n",
       "      <td>1</td>\n",
       "      <td>0</td>\n",
       "      <td>19/03/2023</td>\n",
       "    </tr>\n",
       "  </tbody>\n",
       "</table>\n",
       "</div>"
      ],
      "text/plain": [
       "                                         Direccion     Precio        UF  \\\n",
       "0                             Santiago, Carmen 159  114000000  3273.134   \n",
       "1                Las Condes, Av. Manquehue Nte. 69  156730500  4500.000   \n",
       "2                Quinta Normal, Gral. Barbosa 1149   75000000  2153.378   \n",
       "3                   La Florida, Pudeto, La Florida   65826810  1890.000   \n",
       "4                            Ñuñoa, Matta Ote. 849  182852250  5250.000   \n",
       "5  Estación Central, Avenida Padre Alberto Hurtado   75000000  2153.378   \n",
       "6                      San Joaquín, Sta. Rosa 2648   66175100  1900.000   \n",
       "7          Las Condes, C. San José de La Sierra 93  170662100  4900.000   \n",
       "8                   Ñuñoa, José Domingo Cañas 1727  244847870  7030.000   \n",
       "9                 Cerrillos, Folklore Chileno 2227   38068097  1093.000   \n",
       "\n",
       "   m2_Construidos  m2_totales  Habitaciones  Banos  Estacionamientos  \\\n",
       "0             100         100             3      2                 0   \n",
       "1              45          45             1      1                 1   \n",
       "2              37          37             1      1                 0   \n",
       "3              31          31             1      1                 0   \n",
       "4              74          74             2      2                 1   \n",
       "5              62          62             3      2                 0   \n",
       "6              46          46             2      1                 0   \n",
       "7               0           0             1      1                 0   \n",
       "8             110         110             3      2                 1   \n",
       "9              42          42             2      1                 0   \n",
       "\n",
       "        Publi  \n",
       "0  21/03/2023  \n",
       "1  20/03/2023  \n",
       "2  20/03/2023  \n",
       "3  20/03/2023  \n",
       "4  20/03/2023  \n",
       "5  20/03/2023  \n",
       "6  20/03/2023  \n",
       "7  19/03/2023  \n",
       "8  19/03/2023  \n",
       "9  19/03/2023  "
      ]
     },
     "execution_count": 26,
     "metadata": {},
     "output_type": "execute_result"
    }
   ],
   "source": [
    "pd.DataFrame(dict_data)"
   ]
  },
  {
   "attachments": {},
   "cell_type": "markdown",
   "metadata": {},
   "source": [
    "# Full test"
   ]
  },
  {
   "cell_type": "code",
   "execution_count": 28,
   "metadata": {},
   "outputs": [],
   "source": [
    "all_address = []\n",
    "all_price = []\n",
    "all_uf = []\n",
    "all_cons_m2 = []\n",
    "all_total_m2 = []\n",
    "all_num_bedrooms = []\n",
    "all_num_bathrooms = []\n",
    "all_parkings_slots = []\n",
    "all_publi_date = []"
   ]
  },
  {
   "cell_type": "code",
   "execution_count": 29,
   "metadata": {},
   "outputs": [],
   "source": [
    "full_list = [all_address, all_price, all_uf, all_cons_m2, all_total_m2, all_num_bedrooms, all_num_bathrooms, all_parkings_slots, all_publi_date]"
   ]
  },
  {
   "cell_type": "code",
   "execution_count": 45,
   "metadata": {},
   "outputs": [
    {
     "name": "stdout",
     "output_type": "stream",
     "text": [
      "1292 all_ elements are equal : True\n",
      "1293 all_ elements are equal : True\n",
      "1294 all_ elements are equal : True\n",
      "1295 all_ elements are equal : True\n",
      "1296 all_ elements are equal : True\n"
     ]
    }
   ],
   "source": [
    "for i in range(1292,1297):\n",
    "    url = f\"https://chilepropiedades.cl/propiedades/venta-usada/departamento/region-metropolitana-de-santiago-rm/{i}\"\n",
    "\n",
    "\n",
    "    response = requests.get(url, \n",
    "                            headers= {\"User-Agent\" : \"Mozilla/5.0 (Windows NT 10.0; Win64; x64) AppleWebKit/537.36 (KHTML, like Gecko) Chrome/108.0.0.0 Safari/537.36\"}\n",
    "                            )\n",
    "    # time.sleep(1)\n",
    "\n",
    "    html = response.content\n",
    "    soup = bs(html, \"lxml\")\n",
    "    casas = soup.select(\"div.position-relative.d-sm-flex\")\n",
    "\n",
    "    for cas in casas:\n",
    "        categorias = cas.select(\"div.clp-publication-features-container span\")\n",
    "        categorias_clean = [i.get_text(strip=True).split(\":\")[0] for i in categorias]\n",
    "        check_hab_bath = [\"Baños\", \"Habitaciones\"]\n",
    "        \n",
    "        if not(all([i in categorias_clean for i in check_hab_bath])):\n",
    "            continue\n",
    "        #####\n",
    "        all_address.append(cas.select(\"h2.publication-title-list a\")[0].get_text().split(\"\\n\")[1].strip())\n",
    "\n",
    "        if cas.select(\"span.clp-value-container\")[0].get_text(strip=True) == \"$\":\n",
    "            price = int(cas.select(\"span.clp-value-container\")[1].get_text(strip=True).replace(\".\",\"\"))\n",
    "            all_price.append(price)\n",
    "            all_uf.append(round(price / 34823, 3))\n",
    "        elif cas.select(\"span.clp-value-container\")[0].get_text(strip=True) == \"UF\":\n",
    "            price = int(cas.select(\"span.clp-value-container\")[1].get_text(strip=True).replace(\".\",\"\"))\n",
    "            all_uf.append(price)\n",
    "            all_price.append(round(price * 34823, 3))\n",
    "        elif cas.select(\"span.clp-value-container\")[0].get_text(strip=True) == \"USD\":\n",
    "            price = int(cas.select(\"span.clp-value-container\")[1].get_text(strip=True).replace(\".\",\"\"))\n",
    "            all_uf.append(round(price / 39, 3))\n",
    "            all_price.append(round(price * 886, 3))\n",
    "\n",
    "        categorias = cas.select(\"div.clp-publication-features-container span\")\n",
    "        if \"Terreno\" in [i.get_text(strip=True).split(\":\")[0] for i in categorias]:\n",
    "            meters = cas.select(\"div.clp-publication-features-container span\")[6].select(\"span.clp-feature-value\")\n",
    "\n",
    "            if len(meters) == 1:\n",
    "                all_cons_m2.append(int(meters[0].get_text().split(\",\")[0].replace(\".\",\"\").split()[0]))\n",
    "                all_total_m2.append(int(meters[0].get_text().split(\",\")[0].replace(\".\",\"\").split()[0]))\n",
    "            elif len(meters) == 2:\n",
    "                all_cons_m2.append(int(meters[0].get_text().split(\",\")[0].replace(\".\",\"\").split()[0]))\n",
    "                all_total_m2.append(int(meters[1].get_text().split(\",\")[0].replace(\".\",\"\").split()[0]))\n",
    "        else:\n",
    "            all_cons_m2.append(0)\n",
    "            all_total_m2.append(0)\n",
    "            \n",
    "        all_num_bedrooms.append(int(cas.select(\"div.clp-publication-features-container span\")[2].get_text()))\n",
    "        all_num_bathrooms.append(int(cas.select(\"div.clp-publication-features-container span\")[5].get_text()))\n",
    "\n",
    "        if cas.select(\"div.clp-publication-features-container span\")[-2].get_text() == 'Estacionamientos:':  # Estacionamientos\n",
    "            all_parkings_slots.append(int(cas.select(\"div.clp-publication-features-container span\")[-1].get_text()))\n",
    "        else:\n",
    "            all_parkings_slots.append(0)\n",
    "        \n",
    "        all_publi_date.append(cas.select(\"div.text-center\")[0].get_text().split(\"\\n\")[1])\n",
    "\n",
    "    len_full = np.array([len(i) for i in full_list])\n",
    "    print(i, f\"all_ elements are equal : {np.unique(len_full).shape[0] == 1}\")\n",
    "\n",
    "\n",
    "    "
   ]
  },
  {
   "cell_type": "code",
   "execution_count": 35,
   "metadata": {},
   "outputs": [
    {
     "data": {
      "text/plain": [
       "'Santiago, Carmen 159'"
      ]
     },
     "execution_count": 35,
     "metadata": {},
     "output_type": "execute_result"
    }
   ],
   "source": [
    "full_list[0][0]"
   ]
  },
  {
   "cell_type": "code",
   "execution_count": 46,
   "metadata": {},
   "outputs": [
    {
     "data": {
      "text/plain": [
       "12853"
      ]
     },
     "execution_count": 46,
     "metadata": {},
     "output_type": "execute_result"
    }
   ],
   "source": [
    "len(full_list[-1])"
   ]
  },
  {
   "cell_type": "code",
   "execution_count": 54,
   "metadata": {},
   "outputs": [],
   "source": [
    "# Checks -- 793 -- True\n",
    "# 7874"
   ]
  },
  {
   "cell_type": "code",
   "execution_count": 47,
   "metadata": {},
   "outputs": [],
   "source": [
    "dict_data = {\"Direccion\": all_address,\n",
    "             \"Precio\" : all_price,\n",
    "             \"UF\" : all_uf,\n",
    "             \"m2_Construidos\" : all_cons_m2,\n",
    "             \"m2_totales\" : all_total_m2,\n",
    "             \"Habitaciones\" :  all_num_bedrooms,\n",
    "             \"Banos\" : all_num_bathrooms,\n",
    "             \"Estacionamientos\" : all_parkings_slots,\n",
    "             \"Publi\": all_publi_date}"
   ]
  },
  {
   "cell_type": "code",
   "execution_count": 48,
   "metadata": {},
   "outputs": [],
   "source": [
    "df = pd.DataFrame(dict_data)"
   ]
  },
  {
   "cell_type": "code",
   "execution_count": 49,
   "metadata": {},
   "outputs": [
    {
     "data": {
      "text/html": [
       "<div>\n",
       "<style scoped>\n",
       "    .dataframe tbody tr th:only-of-type {\n",
       "        vertical-align: middle;\n",
       "    }\n",
       "\n",
       "    .dataframe tbody tr th {\n",
       "        vertical-align: top;\n",
       "    }\n",
       "\n",
       "    .dataframe thead th {\n",
       "        text-align: right;\n",
       "    }\n",
       "</style>\n",
       "<table border=\"1\" class=\"dataframe\">\n",
       "  <thead>\n",
       "    <tr style=\"text-align: right;\">\n",
       "      <th></th>\n",
       "      <th>Direccion</th>\n",
       "      <th>Precio</th>\n",
       "      <th>UF</th>\n",
       "      <th>m2_Construidos</th>\n",
       "      <th>m2_totales</th>\n",
       "      <th>Habitaciones</th>\n",
       "      <th>Banos</th>\n",
       "      <th>Estacionamientos</th>\n",
       "      <th>Publi</th>\n",
       "    </tr>\n",
       "  </thead>\n",
       "  <tbody>\n",
       "    <tr>\n",
       "      <th>0</th>\n",
       "      <td>Santiago, Carmen 159</td>\n",
       "      <td>114000000</td>\n",
       "      <td>3273.698</td>\n",
       "      <td>100</td>\n",
       "      <td>100</td>\n",
       "      <td>3</td>\n",
       "      <td>2</td>\n",
       "      <td>0</td>\n",
       "      <td>21/03/2023</td>\n",
       "    </tr>\n",
       "    <tr>\n",
       "      <th>1</th>\n",
       "      <td>Las Condes, Av. Manquehue Nte. 69</td>\n",
       "      <td>156703500</td>\n",
       "      <td>4500.000</td>\n",
       "      <td>45</td>\n",
       "      <td>45</td>\n",
       "      <td>1</td>\n",
       "      <td>1</td>\n",
       "      <td>1</td>\n",
       "      <td>20/03/2023</td>\n",
       "    </tr>\n",
       "    <tr>\n",
       "      <th>2</th>\n",
       "      <td>Quinta Normal, Gral. Barbosa 1149</td>\n",
       "      <td>75000000</td>\n",
       "      <td>2153.749</td>\n",
       "      <td>37</td>\n",
       "      <td>37</td>\n",
       "      <td>1</td>\n",
       "      <td>1</td>\n",
       "      <td>0</td>\n",
       "      <td>20/03/2023</td>\n",
       "    </tr>\n",
       "    <tr>\n",
       "      <th>3</th>\n",
       "      <td>La Florida, Pudeto, La Florida</td>\n",
       "      <td>65815470</td>\n",
       "      <td>1890.000</td>\n",
       "      <td>31</td>\n",
       "      <td>31</td>\n",
       "      <td>1</td>\n",
       "      <td>1</td>\n",
       "      <td>0</td>\n",
       "      <td>20/03/2023</td>\n",
       "    </tr>\n",
       "    <tr>\n",
       "      <th>4</th>\n",
       "      <td>Ñuñoa, Matta Ote. 849</td>\n",
       "      <td>182820750</td>\n",
       "      <td>5250.000</td>\n",
       "      <td>74</td>\n",
       "      <td>74</td>\n",
       "      <td>2</td>\n",
       "      <td>2</td>\n",
       "      <td>1</td>\n",
       "      <td>20/03/2023</td>\n",
       "    </tr>\n",
       "    <tr>\n",
       "      <th>...</th>\n",
       "      <td>...</td>\n",
       "      <td>...</td>\n",
       "      <td>...</td>\n",
       "      <td>...</td>\n",
       "      <td>...</td>\n",
       "      <td>...</td>\n",
       "      <td>...</td>\n",
       "      <td>...</td>\n",
       "      <td>...</td>\n",
       "    </tr>\n",
       "    <tr>\n",
       "      <th>12848</th>\n",
       "      <td>Estación Central, Carlos Pezoa Véliz 143</td>\n",
       "      <td>40000000</td>\n",
       "      <td>1148.666</td>\n",
       "      <td>18</td>\n",
       "      <td>18</td>\n",
       "      <td>1</td>\n",
       "      <td>1</td>\n",
       "      <td>0</td>\n",
       "      <td>23/02/2022</td>\n",
       "    </tr>\n",
       "    <tr>\n",
       "      <th>12849</th>\n",
       "      <td>Independencia, Av Independencia / Olivos</td>\n",
       "      <td>118363377</td>\n",
       "      <td>3399.000</td>\n",
       "      <td>53</td>\n",
       "      <td>53</td>\n",
       "      <td>2</td>\n",
       "      <td>2</td>\n",
       "      <td>1</td>\n",
       "      <td>14/12/2021</td>\n",
       "    </tr>\n",
       "    <tr>\n",
       "      <th>12850</th>\n",
       "      <td>Independencia, Av Independencia / Olivos</td>\n",
       "      <td>111398777</td>\n",
       "      <td>3199.000</td>\n",
       "      <td>49</td>\n",
       "      <td>49</td>\n",
       "      <td>2</td>\n",
       "      <td>1</td>\n",
       "      <td>1</td>\n",
       "      <td>13/12/2021</td>\n",
       "    </tr>\n",
       "    <tr>\n",
       "      <th>12851</th>\n",
       "      <td>Independencia, Av Independencia / Olivos</td>\n",
       "      <td>76575777</td>\n",
       "      <td>2199.000</td>\n",
       "      <td>45</td>\n",
       "      <td>45</td>\n",
       "      <td>1</td>\n",
       "      <td>1</td>\n",
       "      <td>0</td>\n",
       "      <td>13/12/2021</td>\n",
       "    </tr>\n",
       "    <tr>\n",
       "      <th>12852</th>\n",
       "      <td>Estación Central, Av Gral Velasquez / Portales</td>\n",
       "      <td>105861920</td>\n",
       "      <td>3040.000</td>\n",
       "      <td>101</td>\n",
       "      <td>101</td>\n",
       "      <td>2</td>\n",
       "      <td>1</td>\n",
       "      <td>0</td>\n",
       "      <td>08/12/2021</td>\n",
       "    </tr>\n",
       "  </tbody>\n",
       "</table>\n",
       "<p>12853 rows × 9 columns</p>\n",
       "</div>"
      ],
      "text/plain": [
       "                                            Direccion     Precio        UF  \\\n",
       "0                                Santiago, Carmen 159  114000000  3273.698   \n",
       "1                   Las Condes, Av. Manquehue Nte. 69  156703500  4500.000   \n",
       "2                   Quinta Normal, Gral. Barbosa 1149   75000000  2153.749   \n",
       "3                      La Florida, Pudeto, La Florida   65815470  1890.000   \n",
       "4                               Ñuñoa, Matta Ote. 849  182820750  5250.000   \n",
       "...                                               ...        ...       ...   \n",
       "12848        Estación Central, Carlos Pezoa Véliz 143   40000000  1148.666   \n",
       "12849        Independencia, Av Independencia / Olivos  118363377  3399.000   \n",
       "12850        Independencia, Av Independencia / Olivos  111398777  3199.000   \n",
       "12851        Independencia, Av Independencia / Olivos   76575777  2199.000   \n",
       "12852  Estación Central, Av Gral Velasquez / Portales  105861920  3040.000   \n",
       "\n",
       "       m2_Construidos  m2_totales  Habitaciones  Banos  Estacionamientos  \\\n",
       "0                 100         100             3      2                 0   \n",
       "1                  45          45             1      1                 1   \n",
       "2                  37          37             1      1                 0   \n",
       "3                  31          31             1      1                 0   \n",
       "4                  74          74             2      2                 1   \n",
       "...               ...         ...           ...    ...               ...   \n",
       "12848              18          18             1      1                 0   \n",
       "12849              53          53             2      2                 1   \n",
       "12850              49          49             2      1                 1   \n",
       "12851              45          45             1      1                 0   \n",
       "12852             101         101             2      1                 0   \n",
       "\n",
       "            Publi  \n",
       "0      21/03/2023  \n",
       "1      20/03/2023  \n",
       "2      20/03/2023  \n",
       "3      20/03/2023  \n",
       "4      20/03/2023  \n",
       "...           ...  \n",
       "12848  23/02/2022  \n",
       "12849  14/12/2021  \n",
       "12850  13/12/2021  \n",
       "12851  13/12/2021  \n",
       "12852  08/12/2021  \n",
       "\n",
       "[12853 rows x 9 columns]"
      ]
     },
     "execution_count": 49,
     "metadata": {},
     "output_type": "execute_result"
    }
   ],
   "source": [
    "df"
   ]
  },
  {
   "cell_type": "code",
   "execution_count": 51,
   "metadata": {},
   "outputs": [],
   "source": [
    "df = df.drop_duplicates()"
   ]
  },
  {
   "cell_type": "code",
   "execution_count": null,
   "metadata": {},
   "outputs": [],
   "source": [
    "# acuerdate de comentar la siguiente celda despues de guardar el csv y cambiarle a nombre al archivo para que no se te sobreescriba"
   ]
  },
  {
   "cell_type": "code",
   "execution_count": 52,
   "metadata": {},
   "outputs": [],
   "source": [
    "# df.to_csv(\"data/pisos_rm_2023_03_22.csv\", index = False)"
   ]
  }
 ],
 "metadata": {
  "hide_input": false,
  "kernelspec": {
   "display_name": "data_analysis",
   "language": "python",
   "name": "python3"
  },
  "language_info": {
   "codemirror_mode": {
    "name": "ipython",
    "version": 3
   },
   "file_extension": ".py",
   "mimetype": "text/x-python",
   "name": "python",
   "nbconvert_exporter": "python",
   "pygments_lexer": "ipython3",
   "version": "3.9.16"
  },
  "nbTranslate": {
   "displayLangs": [
    "*"
   ],
   "hotkey": "alt-t",
   "langInMainMenu": true,
   "sourceLang": "en",
   "targetLang": "fr",
   "useGoogleTranslate": true
  },
  "varInspector": {
   "cols": {
    "lenName": 16,
    "lenType": 16,
    "lenVar": 40
   },
   "kernels_config": {
    "python": {
     "delete_cmd_postfix": "",
     "delete_cmd_prefix": "del ",
     "library": "var_list.py",
     "varRefreshCmd": "print(var_dic_list())"
    },
    "r": {
     "delete_cmd_postfix": ") ",
     "delete_cmd_prefix": "rm(",
     "library": "var_list.r",
     "varRefreshCmd": "cat(var_dic_list()) "
    }
   },
   "types_to_exclude": [
    "module",
    "function",
    "builtin_function_or_method",
    "instance",
    "_Feature"
   ],
   "window_display": false
  },
  "vscode": {
   "interpreter": {
    "hash": "fa388cf9dcdc3f59653930fe6daadf8dc172d64b4b87278f30ee7891a45c6ac3"
   }
  }
 },
 "nbformat": 4,
 "nbformat_minor": 2
}
